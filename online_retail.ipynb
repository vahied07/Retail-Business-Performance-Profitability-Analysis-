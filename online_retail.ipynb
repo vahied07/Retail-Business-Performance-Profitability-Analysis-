{
 "cells": [
  {
   "cell_type": "code",
   "execution_count": null,
   "id": "761020f1-0e4f-4a4c-bfdd-4261b23d0b51",
   "metadata": {},
   "outputs": [],
   "source": [
    "import pandas as pd\n",
    "\n",
    "df = pd.read_csv(r\"C:\\Users\\jagad\\OneDrive\\Documents\\online_retail_09_10.csv\")\n",
    "df = df.drop_duplicates()\n",
    "df = df.dropna(subset=['CustomerID'])\n",
    "df = df.dropna(subset=['Description'])\n",
    "df = df[~df['InvoiceNo'].astype(str).str.startswith('C')]\n",
    "df = df[(df['Quantity'] > 0) & (df['UnitPrice'] > 0)]\n",
    "df['TotalPrice'] = df['Quantity'] * df['UnitPrice']\n",
    "df['InvoiceDate'] = pd.to_datetime(df['InvoiceDate'])\n",
    "df.to_csv(r\"C:\\Users\\jagad\\OneDrive\\Documents\\online_retail_cleaned.csv\", index=False)\n",
    "print(df.info())\n"
   ]
  }
 ],
 "metadata": {
  "kernelspec": {
   "display_name": "Python 3 (ipykernel)",
   "language": "python",
   "name": "python3"
  },
  "language_info": {
   "codemirror_mode": {
    "name": "ipython",
    "version": 3
   },
   "file_extension": ".py",
   "mimetype": "text/x-python",
   "name": "python",
   "nbconvert_exporter": "python",
   "pygments_lexer": "ipython3",
   "version": "3.12.7"
  }
 },
 "nbformat": 4,
 "nbformat_minor": 5
}
